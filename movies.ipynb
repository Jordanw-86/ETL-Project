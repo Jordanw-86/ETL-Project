{
 "metadata": {
  "language_info": {
   "codemirror_mode": {
    "name": "ipython",
    "version": 3
   },
   "file_extension": ".py",
   "mimetype": "text/x-python",
   "name": "python",
   "nbconvert_exporter": "python",
   "pygments_lexer": "ipython3",
   "version": "3.8.5"
  },
  "orig_nbformat": 2,
  "kernelspec": {
   "name": "python385jvsc74a57bd0dc7d0af18ce639f8f790cddf21347ad1ea8f8836734ea05e44121f7d0d344c96",
   "display_name": "Python 3.8.5 64-bit ('base': conda)"
  }
 },
 "nbformat": 4,
 "nbformat_minor": 2,
 "cells": [
  {
   "cell_type": "code",
   "execution_count": 1,
   "metadata": {},
   "outputs": [],
   "source": [
    "# import dependencies\n",
    "import pandas as pd\n",
    "from sqlalchemy import create_engine"
   ]
  },
  {
   "cell_type": "code",
   "execution_count": 11,
   "metadata": {},
   "outputs": [],
   "source": [
    "# read csv file\n",
    "file_path = \"Resources/IMDb ratings.csv\"\n",
    "file_way = \"Resources/IMDb movies.csv\"\n",
    "rotten_way = \"Resources/rotten_tomatoes_movies.csv\"\n",
    "# create the data frame \n",
    "ratings_df = pd.read_csv(file_path)\n",
    "\n",
    "#movies imdp\n",
    "movies_df = pd.read_csv(file_way)\n",
    "\n",
    "#rotten tomatoes csv\n",
    "rotten_df = pd.read_csv(rotten_way)\n"
   ]
  },
  {
   "cell_type": "code",
   "execution_count": 7,
   "metadata": {},
   "outputs": [
    {
     "output_type": "execute_result",
     "data": {
      "text/plain": [
       "  imdb_title_id  weighted_average_vote  total_votes  mean_vote  median_vote  \\\n",
       "0     tt0000009                    5.9          154        5.9          6.0   \n",
       "1     tt0000574                    6.1          589        6.3          6.0   \n",
       "2     tt0001892                    5.8          188        6.0          6.0   \n",
       "3     tt0002101                    5.2          446        5.3          5.0   \n",
       "4     tt0002130                    7.0         2237        6.9          7.0   \n",
       "\n",
       "   votes_10  votes_9  votes_8  votes_7  votes_6  ...  females_30age_avg_vote  \\\n",
       "0        12        4       10       43       28  ...                     5.7   \n",
       "1        57       18       58      137      139  ...                     6.2   \n",
       "2         6        6       17       44       52  ...                     5.8   \n",
       "3        15        8       16       62       98  ...                     5.5   \n",
       "4       210      225      436      641      344  ...                     7.3   \n",
       "\n",
       "   females_30age_votes  females_45age_avg_vote  females_45age_votes  \\\n",
       "0                 13.0                     4.5                  4.0   \n",
       "1                 23.0                     6.6                 14.0   \n",
       "2                  4.0                     6.8                  7.0   \n",
       "3                 14.0                     6.1                 21.0   \n",
       "4                 82.0                     7.4                 77.0   \n",
       "\n",
       "   top1000_voters_rating  top1000_voters_votes  us_voters_rating  \\\n",
       "0                    5.7                  34.0               6.4   \n",
       "1                    6.4                  66.0               6.0   \n",
       "2                    5.4                  32.0               6.2   \n",
       "3                    4.9                  57.0               5.5   \n",
       "4                    6.9                 139.0               7.0   \n",
       "\n",
       "   us_voters_votes  non_us_voters_rating  non_us_voters_votes  \n",
       "0             51.0                   6.0                 70.0  \n",
       "1             96.0                   6.2                331.0  \n",
       "2             31.0                   5.9                123.0  \n",
       "3            207.0                   4.7                105.0  \n",
       "4            488.0                   7.0               1166.0  \n",
       "\n",
       "[5 rows x 49 columns]"
      ],
      "text/html": "<div>\n<style scoped>\n    .dataframe tbody tr th:only-of-type {\n        vertical-align: middle;\n    }\n\n    .dataframe tbody tr th {\n        vertical-align: top;\n    }\n\n    .dataframe thead th {\n        text-align: right;\n    }\n</style>\n<table border=\"1\" class=\"dataframe\">\n  <thead>\n    <tr style=\"text-align: right;\">\n      <th></th>\n      <th>imdb_title_id</th>\n      <th>weighted_average_vote</th>\n      <th>total_votes</th>\n      <th>mean_vote</th>\n      <th>median_vote</th>\n      <th>votes_10</th>\n      <th>votes_9</th>\n      <th>votes_8</th>\n      <th>votes_7</th>\n      <th>votes_6</th>\n      <th>...</th>\n      <th>females_30age_avg_vote</th>\n      <th>females_30age_votes</th>\n      <th>females_45age_avg_vote</th>\n      <th>females_45age_votes</th>\n      <th>top1000_voters_rating</th>\n      <th>top1000_voters_votes</th>\n      <th>us_voters_rating</th>\n      <th>us_voters_votes</th>\n      <th>non_us_voters_rating</th>\n      <th>non_us_voters_votes</th>\n    </tr>\n  </thead>\n  <tbody>\n    <tr>\n      <th>0</th>\n      <td>tt0000009</td>\n      <td>5.9</td>\n      <td>154</td>\n      <td>5.9</td>\n      <td>6.0</td>\n      <td>12</td>\n      <td>4</td>\n      <td>10</td>\n      <td>43</td>\n      <td>28</td>\n      <td>...</td>\n      <td>5.7</td>\n      <td>13.0</td>\n      <td>4.5</td>\n      <td>4.0</td>\n      <td>5.7</td>\n      <td>34.0</td>\n      <td>6.4</td>\n      <td>51.0</td>\n      <td>6.0</td>\n      <td>70.0</td>\n    </tr>\n    <tr>\n      <th>1</th>\n      <td>tt0000574</td>\n      <td>6.1</td>\n      <td>589</td>\n      <td>6.3</td>\n      <td>6.0</td>\n      <td>57</td>\n      <td>18</td>\n      <td>58</td>\n      <td>137</td>\n      <td>139</td>\n      <td>...</td>\n      <td>6.2</td>\n      <td>23.0</td>\n      <td>6.6</td>\n      <td>14.0</td>\n      <td>6.4</td>\n      <td>66.0</td>\n      <td>6.0</td>\n      <td>96.0</td>\n      <td>6.2</td>\n      <td>331.0</td>\n    </tr>\n    <tr>\n      <th>2</th>\n      <td>tt0001892</td>\n      <td>5.8</td>\n      <td>188</td>\n      <td>6.0</td>\n      <td>6.0</td>\n      <td>6</td>\n      <td>6</td>\n      <td>17</td>\n      <td>44</td>\n      <td>52</td>\n      <td>...</td>\n      <td>5.8</td>\n      <td>4.0</td>\n      <td>6.8</td>\n      <td>7.0</td>\n      <td>5.4</td>\n      <td>32.0</td>\n      <td>6.2</td>\n      <td>31.0</td>\n      <td>5.9</td>\n      <td>123.0</td>\n    </tr>\n    <tr>\n      <th>3</th>\n      <td>tt0002101</td>\n      <td>5.2</td>\n      <td>446</td>\n      <td>5.3</td>\n      <td>5.0</td>\n      <td>15</td>\n      <td>8</td>\n      <td>16</td>\n      <td>62</td>\n      <td>98</td>\n      <td>...</td>\n      <td>5.5</td>\n      <td>14.0</td>\n      <td>6.1</td>\n      <td>21.0</td>\n      <td>4.9</td>\n      <td>57.0</td>\n      <td>5.5</td>\n      <td>207.0</td>\n      <td>4.7</td>\n      <td>105.0</td>\n    </tr>\n    <tr>\n      <th>4</th>\n      <td>tt0002130</td>\n      <td>7.0</td>\n      <td>2237</td>\n      <td>6.9</td>\n      <td>7.0</td>\n      <td>210</td>\n      <td>225</td>\n      <td>436</td>\n      <td>641</td>\n      <td>344</td>\n      <td>...</td>\n      <td>7.3</td>\n      <td>82.0</td>\n      <td>7.4</td>\n      <td>77.0</td>\n      <td>6.9</td>\n      <td>139.0</td>\n      <td>7.0</td>\n      <td>488.0</td>\n      <td>7.0</td>\n      <td>1166.0</td>\n    </tr>\n  </tbody>\n</table>\n<p>5 rows × 49 columns</p>\n</div>"
     },
     "metadata": {},
     "execution_count": 7
    }
   ],
   "source": [
    "ratings_df.head()"
   ]
  },
  {
   "cell_type": "code",
   "execution_count": 9,
   "metadata": {},
   "outputs": [
    {
     "output_type": "execute_result",
     "data": {
      "text/plain": [
       "  imdb_title_id                        title               original_title  \\\n",
       "0     tt0000009                   Miss Jerry                   Miss Jerry   \n",
       "1     tt0000574  The Story of the Kelly Gang  The Story of the Kelly Gang   \n",
       "2     tt0001892               Den sorte drøm               Den sorte drøm   \n",
       "3     tt0002101                    Cleopatra                    Cleopatra   \n",
       "4     tt0002130                    L'Inferno                    L'Inferno   \n",
       "\n",
       "   year date_published                      genre  duration           country  \\\n",
       "0  1894     1894-10-09                    Romance        45               USA   \n",
       "1  1906     1906-12-26    Biography, Crime, Drama        70         Australia   \n",
       "2  1911     1911-08-19                      Drama        53  Germany, Denmark   \n",
       "3  1912     1912-11-13             Drama, History       100               USA   \n",
       "4  1911     1911-03-06  Adventure, Drama, Fantasy        68             Italy   \n",
       "\n",
       "  language                             director  ...  \\\n",
       "0     None                      Alexander Black  ...   \n",
       "1     None                         Charles Tait  ...   \n",
       "2      NaN                            Urban Gad  ...   \n",
       "3  English                   Charles L. Gaskill  ...   \n",
       "4  Italian  Francesco Bertolini, Adolfo Padovan  ...   \n",
       "\n",
       "                                              actors  \\\n",
       "0  Blanche Bayliss, William Courtenay, Chauncey D...   \n",
       "1  Elizabeth Tait, John Tait, Norman Campbell, Be...   \n",
       "2  Asta Nielsen, Valdemar Psilander, Gunnar Helse...   \n",
       "3  Helen Gardner, Pearl Sindelar, Miss Fielding, ...   \n",
       "4  Salvatore Papa, Arturo Pirovano, Giuseppe de L...   \n",
       "\n",
       "                                         description avg_vote votes   budget  \\\n",
       "0  The adventures of a female reporter in the 1890s.      5.9   154      NaN   \n",
       "1  True story of notorious Australian outlaw Ned ...      6.1   589   $ 2250   \n",
       "2  Two men of high rank are both wooing the beaut...      5.8   188      NaN   \n",
       "3  The fabled queen of Egypt's affair with Roman ...      5.2   446  $ 45000   \n",
       "4  Loosely adapted from Dante's Divine Comedy and...      7.0  2237      NaN   \n",
       "\n",
       "   usa_gross_income worlwide_gross_income metascore reviews_from_users  \\\n",
       "0               NaN                   NaN       NaN                1.0   \n",
       "1               NaN                   NaN       NaN                7.0   \n",
       "2               NaN                   NaN       NaN                5.0   \n",
       "3               NaN                   NaN       NaN               25.0   \n",
       "4               NaN                   NaN       NaN               31.0   \n",
       "\n",
       "   reviews_from_critics  \n",
       "0                   2.0  \n",
       "1                   7.0  \n",
       "2                   2.0  \n",
       "3                   3.0  \n",
       "4                  14.0  \n",
       "\n",
       "[5 rows x 22 columns]"
      ],
      "text/html": "<div>\n<style scoped>\n    .dataframe tbody tr th:only-of-type {\n        vertical-align: middle;\n    }\n\n    .dataframe tbody tr th {\n        vertical-align: top;\n    }\n\n    .dataframe thead th {\n        text-align: right;\n    }\n</style>\n<table border=\"1\" class=\"dataframe\">\n  <thead>\n    <tr style=\"text-align: right;\">\n      <th></th>\n      <th>imdb_title_id</th>\n      <th>title</th>\n      <th>original_title</th>\n      <th>year</th>\n      <th>date_published</th>\n      <th>genre</th>\n      <th>duration</th>\n      <th>country</th>\n      <th>language</th>\n      <th>director</th>\n      <th>...</th>\n      <th>actors</th>\n      <th>description</th>\n      <th>avg_vote</th>\n      <th>votes</th>\n      <th>budget</th>\n      <th>usa_gross_income</th>\n      <th>worlwide_gross_income</th>\n      <th>metascore</th>\n      <th>reviews_from_users</th>\n      <th>reviews_from_critics</th>\n    </tr>\n  </thead>\n  <tbody>\n    <tr>\n      <th>0</th>\n      <td>tt0000009</td>\n      <td>Miss Jerry</td>\n      <td>Miss Jerry</td>\n      <td>1894</td>\n      <td>1894-10-09</td>\n      <td>Romance</td>\n      <td>45</td>\n      <td>USA</td>\n      <td>None</td>\n      <td>Alexander Black</td>\n      <td>...</td>\n      <td>Blanche Bayliss, William Courtenay, Chauncey D...</td>\n      <td>The adventures of a female reporter in the 1890s.</td>\n      <td>5.9</td>\n      <td>154</td>\n      <td>NaN</td>\n      <td>NaN</td>\n      <td>NaN</td>\n      <td>NaN</td>\n      <td>1.0</td>\n      <td>2.0</td>\n    </tr>\n    <tr>\n      <th>1</th>\n      <td>tt0000574</td>\n      <td>The Story of the Kelly Gang</td>\n      <td>The Story of the Kelly Gang</td>\n      <td>1906</td>\n      <td>1906-12-26</td>\n      <td>Biography, Crime, Drama</td>\n      <td>70</td>\n      <td>Australia</td>\n      <td>None</td>\n      <td>Charles Tait</td>\n      <td>...</td>\n      <td>Elizabeth Tait, John Tait, Norman Campbell, Be...</td>\n      <td>True story of notorious Australian outlaw Ned ...</td>\n      <td>6.1</td>\n      <td>589</td>\n      <td>$ 2250</td>\n      <td>NaN</td>\n      <td>NaN</td>\n      <td>NaN</td>\n      <td>7.0</td>\n      <td>7.0</td>\n    </tr>\n    <tr>\n      <th>2</th>\n      <td>tt0001892</td>\n      <td>Den sorte drøm</td>\n      <td>Den sorte drøm</td>\n      <td>1911</td>\n      <td>1911-08-19</td>\n      <td>Drama</td>\n      <td>53</td>\n      <td>Germany, Denmark</td>\n      <td>NaN</td>\n      <td>Urban Gad</td>\n      <td>...</td>\n      <td>Asta Nielsen, Valdemar Psilander, Gunnar Helse...</td>\n      <td>Two men of high rank are both wooing the beaut...</td>\n      <td>5.8</td>\n      <td>188</td>\n      <td>NaN</td>\n      <td>NaN</td>\n      <td>NaN</td>\n      <td>NaN</td>\n      <td>5.0</td>\n      <td>2.0</td>\n    </tr>\n    <tr>\n      <th>3</th>\n      <td>tt0002101</td>\n      <td>Cleopatra</td>\n      <td>Cleopatra</td>\n      <td>1912</td>\n      <td>1912-11-13</td>\n      <td>Drama, History</td>\n      <td>100</td>\n      <td>USA</td>\n      <td>English</td>\n      <td>Charles L. Gaskill</td>\n      <td>...</td>\n      <td>Helen Gardner, Pearl Sindelar, Miss Fielding, ...</td>\n      <td>The fabled queen of Egypt's affair with Roman ...</td>\n      <td>5.2</td>\n      <td>446</td>\n      <td>$ 45000</td>\n      <td>NaN</td>\n      <td>NaN</td>\n      <td>NaN</td>\n      <td>25.0</td>\n      <td>3.0</td>\n    </tr>\n    <tr>\n      <th>4</th>\n      <td>tt0002130</td>\n      <td>L'Inferno</td>\n      <td>L'Inferno</td>\n      <td>1911</td>\n      <td>1911-03-06</td>\n      <td>Adventure, Drama, Fantasy</td>\n      <td>68</td>\n      <td>Italy</td>\n      <td>Italian</td>\n      <td>Francesco Bertolini, Adolfo Padovan</td>\n      <td>...</td>\n      <td>Salvatore Papa, Arturo Pirovano, Giuseppe de L...</td>\n      <td>Loosely adapted from Dante's Divine Comedy and...</td>\n      <td>7.0</td>\n      <td>2237</td>\n      <td>NaN</td>\n      <td>NaN</td>\n      <td>NaN</td>\n      <td>NaN</td>\n      <td>31.0</td>\n      <td>14.0</td>\n    </tr>\n  </tbody>\n</table>\n<p>5 rows × 22 columns</p>\n</div>"
     },
     "metadata": {},
     "execution_count": 9
    }
   ],
   "source": [
    "movies_df.head()"
   ]
  },
  {
   "cell_type": "code",
   "execution_count": 12,
   "metadata": {},
   "outputs": [
    {
     "output_type": "execute_result",
     "data": {
      "text/plain": [
       "                    rotten_tomatoes_link  \\\n",
       "0                              m/0814255   \n",
       "1                              m/0878835   \n",
       "2                                   m/10   \n",
       "3                 m/1000013-12_angry_men   \n",
       "4  m/1000079-20000_leagues_under_the_sea   \n",
       "\n",
       "                                         movie_title  \\\n",
       "0  Percy Jackson & the Olympians: The Lightning T...   \n",
       "1                                        Please Give   \n",
       "2                                                 10   \n",
       "3                    12 Angry Men (Twelve Angry Men)   \n",
       "4                       20,000 Leagues Under The Sea   \n",
       "\n",
       "                                          movie_info  \\\n",
       "0  Always trouble-prone, the life of teenager Per...   \n",
       "1  Kate (Catherine Keener) and her husband Alex (...   \n",
       "2  A successful, middle-aged Hollywood songwriter...   \n",
       "3  Following the closing arguments in a murder tr...   \n",
       "4  In 1866, Professor Pierre M. Aronnax (Paul Luk...   \n",
       "\n",
       "                                   critics_consensus content_rating  \\\n",
       "0  Though it may seem like just another Harry Pot...             PG   \n",
       "1  Nicole Holofcener's newest might seem slight i...              R   \n",
       "2  Blake Edwards' bawdy comedy may not score a pe...              R   \n",
       "3  Sidney Lumet's feature debut is a superbly wri...             NR   \n",
       "4  One of Disney's finest live-action adventures,...              G   \n",
       "\n",
       "                                              genres          directors  \\\n",
       "0  Action & Adventure, Comedy, Drama, Science Fic...     Chris Columbus   \n",
       "1                                             Comedy  Nicole Holofcener   \n",
       "2                                    Comedy, Romance      Blake Edwards   \n",
       "3                                    Classics, Drama       Sidney Lumet   \n",
       "4           Action & Adventure, Drama, Kids & Family  Richard Fleischer   \n",
       "\n",
       "                                      authors  \\\n",
       "0  Craig Titley, Chris Columbus, Rick Riordan   \n",
       "1                           Nicole Holofcener   \n",
       "2                               Blake Edwards   \n",
       "3                               Reginald Rose   \n",
       "4                                 Earl Felton   \n",
       "\n",
       "                                              actors original_release_date  \\\n",
       "0  Logan Lerman, Brandon T. Jackson, Alexandra Da...            2010-02-12   \n",
       "1  Catherine Keener, Amanda Peet, Oliver Platt, R...            2010-04-30   \n",
       "2  Dudley Moore, Bo Derek, Julie Andrews, Robert ...            1979-10-05   \n",
       "3  Martin Balsam, John Fiedler, Lee J. Cobb, E.G....            1957-04-13   \n",
       "4  James Mason, Kirk Douglas, Paul Lukas, Peter L...            1954-01-01   \n",
       "\n",
       "   ...      production_company  tomatometer_status tomatometer_rating  \\\n",
       "0  ...        20th Century Fox              Rotten               49.0   \n",
       "1  ...  Sony Pictures Classics     Certified-Fresh               87.0   \n",
       "2  ...             Waner Bros.               Fresh               67.0   \n",
       "3  ...    Criterion Collection     Certified-Fresh              100.0   \n",
       "4  ...                  Disney               Fresh               89.0   \n",
       "\n",
       "  tomatometer_count  audience_status  audience_rating audience_count  \\\n",
       "0             149.0          Spilled             53.0       254421.0   \n",
       "1             142.0          Upright             64.0        11574.0   \n",
       "2              24.0          Spilled             53.0        14684.0   \n",
       "3              54.0          Upright             97.0       105386.0   \n",
       "4              27.0          Upright             74.0        68918.0   \n",
       "\n",
       "   tomatometer_top_critics_count  tomatometer_fresh_critics_count  \\\n",
       "0                             43                               73   \n",
       "1                             44                              123   \n",
       "2                              2                               16   \n",
       "3                              6                               54   \n",
       "4                              5                               24   \n",
       "\n",
       "   tomatometer_rotten_critics_count  \n",
       "0                                76  \n",
       "1                                19  \n",
       "2                                 8  \n",
       "3                                 0  \n",
       "4                                 3  \n",
       "\n",
       "[5 rows x 22 columns]"
      ],
      "text/html": "<div>\n<style scoped>\n    .dataframe tbody tr th:only-of-type {\n        vertical-align: middle;\n    }\n\n    .dataframe tbody tr th {\n        vertical-align: top;\n    }\n\n    .dataframe thead th {\n        text-align: right;\n    }\n</style>\n<table border=\"1\" class=\"dataframe\">\n  <thead>\n    <tr style=\"text-align: right;\">\n      <th></th>\n      <th>rotten_tomatoes_link</th>\n      <th>movie_title</th>\n      <th>movie_info</th>\n      <th>critics_consensus</th>\n      <th>content_rating</th>\n      <th>genres</th>\n      <th>directors</th>\n      <th>authors</th>\n      <th>actors</th>\n      <th>original_release_date</th>\n      <th>...</th>\n      <th>production_company</th>\n      <th>tomatometer_status</th>\n      <th>tomatometer_rating</th>\n      <th>tomatometer_count</th>\n      <th>audience_status</th>\n      <th>audience_rating</th>\n      <th>audience_count</th>\n      <th>tomatometer_top_critics_count</th>\n      <th>tomatometer_fresh_critics_count</th>\n      <th>tomatometer_rotten_critics_count</th>\n    </tr>\n  </thead>\n  <tbody>\n    <tr>\n      <th>0</th>\n      <td>m/0814255</td>\n      <td>Percy Jackson &amp; the Olympians: The Lightning T...</td>\n      <td>Always trouble-prone, the life of teenager Per...</td>\n      <td>Though it may seem like just another Harry Pot...</td>\n      <td>PG</td>\n      <td>Action &amp; Adventure, Comedy, Drama, Science Fic...</td>\n      <td>Chris Columbus</td>\n      <td>Craig Titley, Chris Columbus, Rick Riordan</td>\n      <td>Logan Lerman, Brandon T. Jackson, Alexandra Da...</td>\n      <td>2010-02-12</td>\n      <td>...</td>\n      <td>20th Century Fox</td>\n      <td>Rotten</td>\n      <td>49.0</td>\n      <td>149.0</td>\n      <td>Spilled</td>\n      <td>53.0</td>\n      <td>254421.0</td>\n      <td>43</td>\n      <td>73</td>\n      <td>76</td>\n    </tr>\n    <tr>\n      <th>1</th>\n      <td>m/0878835</td>\n      <td>Please Give</td>\n      <td>Kate (Catherine Keener) and her husband Alex (...</td>\n      <td>Nicole Holofcener's newest might seem slight i...</td>\n      <td>R</td>\n      <td>Comedy</td>\n      <td>Nicole Holofcener</td>\n      <td>Nicole Holofcener</td>\n      <td>Catherine Keener, Amanda Peet, Oliver Platt, R...</td>\n      <td>2010-04-30</td>\n      <td>...</td>\n      <td>Sony Pictures Classics</td>\n      <td>Certified-Fresh</td>\n      <td>87.0</td>\n      <td>142.0</td>\n      <td>Upright</td>\n      <td>64.0</td>\n      <td>11574.0</td>\n      <td>44</td>\n      <td>123</td>\n      <td>19</td>\n    </tr>\n    <tr>\n      <th>2</th>\n      <td>m/10</td>\n      <td>10</td>\n      <td>A successful, middle-aged Hollywood songwriter...</td>\n      <td>Blake Edwards' bawdy comedy may not score a pe...</td>\n      <td>R</td>\n      <td>Comedy, Romance</td>\n      <td>Blake Edwards</td>\n      <td>Blake Edwards</td>\n      <td>Dudley Moore, Bo Derek, Julie Andrews, Robert ...</td>\n      <td>1979-10-05</td>\n      <td>...</td>\n      <td>Waner Bros.</td>\n      <td>Fresh</td>\n      <td>67.0</td>\n      <td>24.0</td>\n      <td>Spilled</td>\n      <td>53.0</td>\n      <td>14684.0</td>\n      <td>2</td>\n      <td>16</td>\n      <td>8</td>\n    </tr>\n    <tr>\n      <th>3</th>\n      <td>m/1000013-12_angry_men</td>\n      <td>12 Angry Men (Twelve Angry Men)</td>\n      <td>Following the closing arguments in a murder tr...</td>\n      <td>Sidney Lumet's feature debut is a superbly wri...</td>\n      <td>NR</td>\n      <td>Classics, Drama</td>\n      <td>Sidney Lumet</td>\n      <td>Reginald Rose</td>\n      <td>Martin Balsam, John Fiedler, Lee J. Cobb, E.G....</td>\n      <td>1957-04-13</td>\n      <td>...</td>\n      <td>Criterion Collection</td>\n      <td>Certified-Fresh</td>\n      <td>100.0</td>\n      <td>54.0</td>\n      <td>Upright</td>\n      <td>97.0</td>\n      <td>105386.0</td>\n      <td>6</td>\n      <td>54</td>\n      <td>0</td>\n    </tr>\n    <tr>\n      <th>4</th>\n      <td>m/1000079-20000_leagues_under_the_sea</td>\n      <td>20,000 Leagues Under The Sea</td>\n      <td>In 1866, Professor Pierre M. Aronnax (Paul Luk...</td>\n      <td>One of Disney's finest live-action adventures,...</td>\n      <td>G</td>\n      <td>Action &amp; Adventure, Drama, Kids &amp; Family</td>\n      <td>Richard Fleischer</td>\n      <td>Earl Felton</td>\n      <td>James Mason, Kirk Douglas, Paul Lukas, Peter L...</td>\n      <td>1954-01-01</td>\n      <td>...</td>\n      <td>Disney</td>\n      <td>Fresh</td>\n      <td>89.0</td>\n      <td>27.0</td>\n      <td>Upright</td>\n      <td>74.0</td>\n      <td>68918.0</td>\n      <td>5</td>\n      <td>24</td>\n      <td>3</td>\n    </tr>\n  </tbody>\n</table>\n<p>5 rows × 22 columns</p>\n</div>"
     },
     "metadata": {},
     "execution_count": 12
    }
   ],
   "source": [
    "rotten_df.head()"
   ]
  },
  {
   "cell_type": "code",
   "execution_count": 16,
   "metadata": {},
   "outputs": [
    {
     "output_type": "execute_result",
     "data": {
      "text/plain": [
       "  imdb_title_id  total_votes  top1000_voters_rating\n",
       "0     tt0000009          154                    5.7\n",
       "1     tt0000574          589                    6.4\n",
       "2     tt0001892          188                    5.4\n",
       "3     tt0002101          446                    4.9\n",
       "4     tt0002130         2237                    6.9"
      ],
      "text/html": "<div>\n<style scoped>\n    .dataframe tbody tr th:only-of-type {\n        vertical-align: middle;\n    }\n\n    .dataframe tbody tr th {\n        vertical-align: top;\n    }\n\n    .dataframe thead th {\n        text-align: right;\n    }\n</style>\n<table border=\"1\" class=\"dataframe\">\n  <thead>\n    <tr style=\"text-align: right;\">\n      <th></th>\n      <th>imdb_title_id</th>\n      <th>total_votes</th>\n      <th>top1000_voters_rating</th>\n    </tr>\n  </thead>\n  <tbody>\n    <tr>\n      <th>0</th>\n      <td>tt0000009</td>\n      <td>154</td>\n      <td>5.7</td>\n    </tr>\n    <tr>\n      <th>1</th>\n      <td>tt0000574</td>\n      <td>589</td>\n      <td>6.4</td>\n    </tr>\n    <tr>\n      <th>2</th>\n      <td>tt0001892</td>\n      <td>188</td>\n      <td>5.4</td>\n    </tr>\n    <tr>\n      <th>3</th>\n      <td>tt0002101</td>\n      <td>446</td>\n      <td>4.9</td>\n    </tr>\n    <tr>\n      <th>4</th>\n      <td>tt0002130</td>\n      <td>2237</td>\n      <td>6.9</td>\n    </tr>\n  </tbody>\n</table>\n</div>"
     },
     "metadata": {},
     "execution_count": 16
    }
   ],
   "source": [
    "#creating a database for movie ratings only \n",
    "ratings_df = ratings_df[[\"imdb_title_id\",\"total_votes\",\"top1000_voters_rating\"]]\n",
    "ratings_df.head()"
   ]
  },
  {
   "cell_type": "code",
   "execution_count": 21,
   "metadata": {},
   "outputs": [
    {
     "output_type": "execute_result",
     "data": {
      "text/plain": [
       "  imdb_title_id                        title  year  \\\n",
       "0     tt0000009                   Miss Jerry  1894   \n",
       "1     tt0000574  The Story of the Kelly Gang  1906   \n",
       "2     tt0001892               Den sorte drøm  1911   \n",
       "3     tt0002101                    Cleopatra  1912   \n",
       "4     tt0002130                    L'Inferno  1911   \n",
       "\n",
       "                                              actors  \\\n",
       "0  Blanche Bayliss, William Courtenay, Chauncey D...   \n",
       "1  Elizabeth Tait, John Tait, Norman Campbell, Be...   \n",
       "2  Asta Nielsen, Valdemar Psilander, Gunnar Helse...   \n",
       "3  Helen Gardner, Pearl Sindelar, Miss Fielding, ...   \n",
       "4  Salvatore Papa, Arturo Pirovano, Giuseppe de L...   \n",
       "\n",
       "                             directors  duration  \n",
       "0                      Alexander Black        45  \n",
       "1                         Charles Tait        70  \n",
       "2                            Urban Gad        53  \n",
       "3                   Charles L. Gaskill       100  \n",
       "4  Francesco Bertolini, Adolfo Padovan        68  "
      ],
      "text/html": "<div>\n<style scoped>\n    .dataframe tbody tr th:only-of-type {\n        vertical-align: middle;\n    }\n\n    .dataframe tbody tr th {\n        vertical-align: top;\n    }\n\n    .dataframe thead th {\n        text-align: right;\n    }\n</style>\n<table border=\"1\" class=\"dataframe\">\n  <thead>\n    <tr style=\"text-align: right;\">\n      <th></th>\n      <th>imdb_title_id</th>\n      <th>title</th>\n      <th>year</th>\n      <th>actors</th>\n      <th>directors</th>\n      <th>duration</th>\n    </tr>\n  </thead>\n  <tbody>\n    <tr>\n      <th>0</th>\n      <td>tt0000009</td>\n      <td>Miss Jerry</td>\n      <td>1894</td>\n      <td>Blanche Bayliss, William Courtenay, Chauncey D...</td>\n      <td>Alexander Black</td>\n      <td>45</td>\n    </tr>\n    <tr>\n      <th>1</th>\n      <td>tt0000574</td>\n      <td>The Story of the Kelly Gang</td>\n      <td>1906</td>\n      <td>Elizabeth Tait, John Tait, Norman Campbell, Be...</td>\n      <td>Charles Tait</td>\n      <td>70</td>\n    </tr>\n    <tr>\n      <th>2</th>\n      <td>tt0001892</td>\n      <td>Den sorte drøm</td>\n      <td>1911</td>\n      <td>Asta Nielsen, Valdemar Psilander, Gunnar Helse...</td>\n      <td>Urban Gad</td>\n      <td>53</td>\n    </tr>\n    <tr>\n      <th>3</th>\n      <td>tt0002101</td>\n      <td>Cleopatra</td>\n      <td>1912</td>\n      <td>Helen Gardner, Pearl Sindelar, Miss Fielding, ...</td>\n      <td>Charles L. Gaskill</td>\n      <td>100</td>\n    </tr>\n    <tr>\n      <th>4</th>\n      <td>tt0002130</td>\n      <td>L'Inferno</td>\n      <td>1911</td>\n      <td>Salvatore Papa, Arturo Pirovano, Giuseppe de L...</td>\n      <td>Francesco Bertolini, Adolfo Padovan</td>\n      <td>68</td>\n    </tr>\n  </tbody>\n</table>\n</div>"
     },
     "metadata": {},
     "execution_count": 21
    }
   ],
   "source": [
    "movies_df = movies_df[[\"imdb_title_id\",\"title\",\"year\",\"actors\",\"director\",\"duration\"]]\n",
    "#renaming director column to directors\n",
    "movies_df.columns=[\"imdb_title_id\",\"title\",\"year\",\"actors\",\"directors\",\"duration\"]\n",
    "movies_df.head()"
   ]
  },
  {
   "cell_type": "code",
   "execution_count": 22,
   "metadata": {},
   "outputs": [
    {
     "output_type": "execute_result",
     "data": {
      "text/plain": [
       "                                         movie_title content_rating  \\\n",
       "0  Percy Jackson & the Olympians: The Lightning T...             PG   \n",
       "1                                        Please Give              R   \n",
       "2                                                 10              R   \n",
       "3                    12 Angry Men (Twelve Angry Men)             NR   \n",
       "4                       20,000 Leagues Under The Sea              G   \n",
       "\n",
       "                                   critics_consensus  \\\n",
       "0  Though it may seem like just another Harry Pot...   \n",
       "1  Nicole Holofcener's newest might seem slight i...   \n",
       "2  Blake Edwards' bawdy comedy may not score a pe...   \n",
       "3  Sidney Lumet's feature debut is a superbly wri...   \n",
       "4  One of Disney's finest live-action adventures,...   \n",
       "\n",
       "                                              genres          directors  \\\n",
       "0  Action & Adventure, Comedy, Drama, Science Fic...     Chris Columbus   \n",
       "1                                             Comedy  Nicole Holofcener   \n",
       "2                                    Comedy, Romance      Blake Edwards   \n",
       "3                                    Classics, Drama       Sidney Lumet   \n",
       "4           Action & Adventure, Drama, Kids & Family  Richard Fleischer   \n",
       "\n",
       "                                              actors original_release_date  \\\n",
       "0  Logan Lerman, Brandon T. Jackson, Alexandra Da...            2010-02-12   \n",
       "1  Catherine Keener, Amanda Peet, Oliver Platt, R...            2010-04-30   \n",
       "2  Dudley Moore, Bo Derek, Julie Andrews, Robert ...            1979-10-05   \n",
       "3  Martin Balsam, John Fiedler, Lee J. Cobb, E.G....            1957-04-13   \n",
       "4  James Mason, Kirk Douglas, Paul Lukas, Peter L...            1954-01-01   \n",
       "\n",
       "       production_company  \n",
       "0        20th Century Fox  \n",
       "1  Sony Pictures Classics  \n",
       "2             Waner Bros.  \n",
       "3    Criterion Collection  \n",
       "4                  Disney  "
      ],
      "text/html": "<div>\n<style scoped>\n    .dataframe tbody tr th:only-of-type {\n        vertical-align: middle;\n    }\n\n    .dataframe tbody tr th {\n        vertical-align: top;\n    }\n\n    .dataframe thead th {\n        text-align: right;\n    }\n</style>\n<table border=\"1\" class=\"dataframe\">\n  <thead>\n    <tr style=\"text-align: right;\">\n      <th></th>\n      <th>movie_title</th>\n      <th>content_rating</th>\n      <th>critics_consensus</th>\n      <th>genres</th>\n      <th>directors</th>\n      <th>actors</th>\n      <th>original_release_date</th>\n      <th>production_company</th>\n    </tr>\n  </thead>\n  <tbody>\n    <tr>\n      <th>0</th>\n      <td>Percy Jackson &amp; the Olympians: The Lightning T...</td>\n      <td>PG</td>\n      <td>Though it may seem like just another Harry Pot...</td>\n      <td>Action &amp; Adventure, Comedy, Drama, Science Fic...</td>\n      <td>Chris Columbus</td>\n      <td>Logan Lerman, Brandon T. Jackson, Alexandra Da...</td>\n      <td>2010-02-12</td>\n      <td>20th Century Fox</td>\n    </tr>\n    <tr>\n      <th>1</th>\n      <td>Please Give</td>\n      <td>R</td>\n      <td>Nicole Holofcener's newest might seem slight i...</td>\n      <td>Comedy</td>\n      <td>Nicole Holofcener</td>\n      <td>Catherine Keener, Amanda Peet, Oliver Platt, R...</td>\n      <td>2010-04-30</td>\n      <td>Sony Pictures Classics</td>\n    </tr>\n    <tr>\n      <th>2</th>\n      <td>10</td>\n      <td>R</td>\n      <td>Blake Edwards' bawdy comedy may not score a pe...</td>\n      <td>Comedy, Romance</td>\n      <td>Blake Edwards</td>\n      <td>Dudley Moore, Bo Derek, Julie Andrews, Robert ...</td>\n      <td>1979-10-05</td>\n      <td>Waner Bros.</td>\n    </tr>\n    <tr>\n      <th>3</th>\n      <td>12 Angry Men (Twelve Angry Men)</td>\n      <td>NR</td>\n      <td>Sidney Lumet's feature debut is a superbly wri...</td>\n      <td>Classics, Drama</td>\n      <td>Sidney Lumet</td>\n      <td>Martin Balsam, John Fiedler, Lee J. Cobb, E.G....</td>\n      <td>1957-04-13</td>\n      <td>Criterion Collection</td>\n    </tr>\n    <tr>\n      <th>4</th>\n      <td>20,000 Leagues Under The Sea</td>\n      <td>G</td>\n      <td>One of Disney's finest live-action adventures,...</td>\n      <td>Action &amp; Adventure, Drama, Kids &amp; Family</td>\n      <td>Richard Fleischer</td>\n      <td>James Mason, Kirk Douglas, Paul Lukas, Peter L...</td>\n      <td>1954-01-01</td>\n      <td>Disney</td>\n    </tr>\n  </tbody>\n</table>\n</div>"
     },
     "metadata": {},
     "execution_count": 22
    }
   ],
   "source": [
    "rotten_df2 = rotten_df[[\"movie_title\",\"content_rating\",\"critics_consensus\",\"genres\",\"directors\",\"actors\",\"original_release_date\",\"production_company\"]]  \n",
    "rotten_df2.head()\t"
   ]
  },
  {
   "cell_type": "code",
   "execution_count": null,
   "metadata": {},
   "outputs": [],
   "source": []
  }
 ]
}