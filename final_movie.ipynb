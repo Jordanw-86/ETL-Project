{
 "metadata": {
  "language_info": {
   "codemirror_mode": {
    "name": "ipython",
    "version": 3
   },
   "file_extension": ".py",
   "mimetype": "text/x-python",
   "name": "python",
   "nbconvert_exporter": "python",
   "pygments_lexer": "ipython3",
   "version": "3.8.5"
  },
  "orig_nbformat": 2,
  "kernelspec": {
   "name": "python385jvsc74a57bd0dc7d0af18ce639f8f790cddf21347ad1ea8f8836734ea05e44121f7d0d344c96",
   "display_name": "Python 3.8.5 64-bit ('base': conda)"
  }
 },
 "nbformat": 4,
 "nbformat_minor": 2,
 "cells": [
  {
   "cell_type": "code",
   "execution_count": 80,
   "metadata": {},
   "outputs": [],
   "source": [
    "import pandas as pd\n",
    "from sqlalchemy import create_engine"
   ]
  },
  {
   "cell_type": "code",
   "execution_count": 81,
   "metadata": {},
   "outputs": [
    {
     "output_type": "stream",
     "name": "stderr",
     "text": [
      "/Users/jordanwright/opt/anaconda3/lib/python3.8/site-packages/IPython/core/interactiveshell.py:3146: DtypeWarning: Columns (3) have mixed types.Specify dtype option on import or set low_memory=False.\n  has_raised = await self.run_ast_nodes(code_ast.body, cell_name,\n"
     ]
    }
   ],
   "source": [
    "# read csv file\n",
    "file_path = \"Resources/IMDb ratings.csv\"\n",
    "file_way = \"Resources/IMDb movies.csv\"\n",
    "rotten_way = \"Resources/rotten_tomatoes_movies.csv\"\n",
    "# create the data frame \n",
    "df_imbd_rating = pd.read_csv(file_path)\n",
    "\n",
    "#movies imdp\n",
    "df_imdb_movies = pd.read_csv(file_way)\n",
    "\n",
    "#rotten tomatoes csv\n",
    "df_rt = pd.read_csv(rotten_way)"
   ]
  },
  {
   "cell_type": "code",
   "execution_count": 93,
   "metadata": {},
   "outputs": [
    {
     "output_type": "stream",
     "name": "stdout",
     "text": [
      "<class 'pandas.core.frame.DataFrame'>\nRangeIndex: 17712 entries, 0 to 17711\nData columns (total 12 columns):\n #   Column                            Non-Null Count  Dtype  \n---  ------                            --------------  -----  \n 0   rotten_tomatoes_link              17712 non-null  object \n 1   critics_consensus                 9134 non-null   object \n 2   streaming_release_date            17328 non-null  object \n 3   tomatometer_status                17668 non-null  object \n 4   tomatometer_rating                17668 non-null  float64\n 5   tomatometer_count                 17668 non-null  float64\n 6   audience_status                   17264 non-null  object \n 7   audience_rating                   17416 non-null  float64\n 8   audience_count                    17415 non-null  float64\n 9   tomatometer_top_critics_count     17712 non-null  int64  \n 10  tomatometer_fresh_critics_count   17712 non-null  int64  \n 11  tomatometer_rotten_critics_count  17712 non-null  int64  \ndtypes: float64(4), int64(3), object(5)\nmemory usage: 1.6+ MB\n"
     ]
    }
   ],
   "source": [
    "#making a dataframe of the columns that are unique to rotten tomatoes\n",
    "df_rt2 = df_rt[['rotten_tomatoes_link','critics_consensus','streaming_release_date','tomatometer_status', 'tomatometer_rating','tomatometer_count', 'audience_status', 'audience_rating','audience_count', 'tomatometer_top_critics_count','tomatometer_fresh_critics_count', 'tomatometer_rotten_critics_count']]  \n",
    "df_rt2.info()"
   ]
  },
  {
   "cell_type": "code",
   "execution_count": 86,
   "metadata": {},
   "outputs": [
    {
     "output_type": "stream",
     "name": "stdout",
     "text": [
      "<class 'pandas.core.frame.DataFrame'>\nRangeIndex: 17712 entries, 0 to 17711\nData columns (total 12 columns):\n #   Column                  Non-Null Count  Dtype  \n---  ------                  --------------  -----  \n 0   rotten_tomatoes_link    17712 non-null  object \n 1   movie_title             17712 non-null  object \n 2   movie_info              17391 non-null  object \n 3   content_rating          17712 non-null  object \n 4   genres                  17693 non-null  object \n 5   directors               17518 non-null  object \n 6   authors                 16170 non-null  object \n 7   actors                  17360 non-null  object \n 8   original_release_date   16546 non-null  object \n 9   streaming_release_date  17328 non-null  object \n 10  runtime                 17398 non-null  float64\n 11  production_company      17213 non-null  object \ndtypes: float64(1), object(11)\nmemory usage: 1.6+ MB\n"
     ]
    }
   ],
   "source": [
    "# creating a database with rotten tomato movie specific data\n",
    "rt_movie_df = df_rt[['rotten_tomatoes_link', 'movie_title', 'movie_info',\n",
    "       'content_rating', 'genres', 'directors', 'authors',\n",
    "       'actors', 'original_release_date', 'streaming_release_date', 'runtime',\n",
    "       'production_company']]\n",
    "rt_movie_df.info()"
   ]
  },
  {
   "cell_type": "code",
   "execution_count": 90,
   "metadata": {},
   "outputs": [
    {
     "output_type": "stream",
     "name": "stdout",
     "text": [
      "<class 'pandas.core.frame.DataFrame'>\nRangeIndex: 85855 entries, 0 to 85854\nData columns (total 17 columns):\n #   Column                 Non-Null Count  Dtype \n---  ------                 --------------  ----- \n 0   imdb_title_id          85855 non-null  object\n 1   title                  85855 non-null  object\n 2   original_title         85855 non-null  object\n 3   year                   85855 non-null  object\n 4   date_published         85855 non-null  object\n 5   genre                  85855 non-null  object\n 6   duration               85855 non-null  int64 \n 7   country                85791 non-null  object\n 8   language               85022 non-null  object\n 9   director               85768 non-null  object\n 10  writer                 84283 non-null  object\n 11  production_company     81400 non-null  object\n 12  actors                 85786 non-null  object\n 13  description            83740 non-null  object\n 14  budget                 23710 non-null  object\n 15  usa_gross_income       15326 non-null  object\n 16  worlwide_gross_income  31016 non-null  object\ndtypes: int64(1), object(16)\nmemory usage: 11.1+ MB\n"
     ]
    }
   ],
   "source": [
    "#creating a df that hold info from imbd\n",
    "imdb_movies = df_imdb_movies[['imdb_title_id', 'title', 'original_title', 'year', 'date_published',\n",
    "       'genre', 'duration', 'country', 'language', 'director', 'writer',\n",
    "       'production_company', 'actors', 'description',\n",
    "       'budget', 'usa_gross_income', 'worlwide_gross_income']]\n",
    "imdb_movies.info()"
   ]
  },
  {
   "cell_type": "code",
   "execution_count": 92,
   "metadata": {},
   "outputs": [
    {
     "output_type": "execute_result",
     "data": {
      "text/plain": [
       "  imdb_title_id                  movie_title               original_title  \\\n",
       "0     tt0000009                   Miss Jerry                   Miss Jerry   \n",
       "1     tt0000574  The Story of the Kelly Gang  The Story of the Kelly Gang   \n",
       "2     tt0001892               Den sorte drøm               Den sorte drøm   \n",
       "3     tt0002101                    Cleopatra                    Cleopatra   \n",
       "4     tt0002130                    L'Inferno                    L'Inferno   \n",
       "\n",
       "   year original_release_date                      genre  duration  \\\n",
       "0  1894            1894-10-09                    Romance        45   \n",
       "1  1906            1906-12-26    Biography, Crime, Drama        70   \n",
       "2  1911            1911-08-19                      Drama        53   \n",
       "3  1912            1912-11-13             Drama, History       100   \n",
       "4  1911            1911-03-06  Adventure, Drama, Fantasy        68   \n",
       "\n",
       "            country language                             director  \\\n",
       "0               USA     None                      Alexander Black   \n",
       "1         Australia     None                         Charles Tait   \n",
       "2  Germany, Denmark      NaN                            Urban Gad   \n",
       "3               USA  English                   Charles L. Gaskill   \n",
       "4             Italy  Italian  Francesco Bertolini, Adolfo Padovan   \n",
       "\n",
       "                                  writer             production_company  \\\n",
       "0                        Alexander Black     Alexander Black Photoplays   \n",
       "1                           Charles Tait                 J. and N. Tait   \n",
       "2  Urban Gad, Gebhard Schätzler-Perasini                       Fotorama   \n",
       "3                       Victorien Sardou  Helen Gardner Picture Players   \n",
       "4                        Dante Alighieri                    Milano Film   \n",
       "\n",
       "                                              actors  \\\n",
       "0  Blanche Bayliss, William Courtenay, Chauncey D...   \n",
       "1  Elizabeth Tait, John Tait, Norman Campbell, Be...   \n",
       "2  Asta Nielsen, Valdemar Psilander, Gunnar Helse...   \n",
       "3  Helen Gardner, Pearl Sindelar, Miss Fielding, ...   \n",
       "4  Salvatore Papa, Arturo Pirovano, Giuseppe de L...   \n",
       "\n",
       "                                         description   budget  \\\n",
       "0  The adventures of a female reporter in the 1890s.      NaN   \n",
       "1  True story of notorious Australian outlaw Ned ...   $ 2250   \n",
       "2  Two men of high rank are both wooing the beaut...      NaN   \n",
       "3  The fabled queen of Egypt's affair with Roman ...  $ 45000   \n",
       "4  Loosely adapted from Dante's Divine Comedy and...      NaN   \n",
       "\n",
       "  usa_gross_income worlwide_gross_income  \n",
       "0              NaN                   NaN  \n",
       "1              NaN                   NaN  \n",
       "2              NaN                   NaN  \n",
       "3              NaN                   NaN  \n",
       "4              NaN                   NaN  "
      ],
      "text/html": "<div>\n<style scoped>\n    .dataframe tbody tr th:only-of-type {\n        vertical-align: middle;\n    }\n\n    .dataframe tbody tr th {\n        vertical-align: top;\n    }\n\n    .dataframe thead th {\n        text-align: right;\n    }\n</style>\n<table border=\"1\" class=\"dataframe\">\n  <thead>\n    <tr style=\"text-align: right;\">\n      <th></th>\n      <th>imdb_title_id</th>\n      <th>movie_title</th>\n      <th>original_title</th>\n      <th>year</th>\n      <th>original_release_date</th>\n      <th>genre</th>\n      <th>duration</th>\n      <th>country</th>\n      <th>language</th>\n      <th>director</th>\n      <th>writer</th>\n      <th>production_company</th>\n      <th>actors</th>\n      <th>description</th>\n      <th>budget</th>\n      <th>usa_gross_income</th>\n      <th>worlwide_gross_income</th>\n    </tr>\n  </thead>\n  <tbody>\n    <tr>\n      <th>0</th>\n      <td>tt0000009</td>\n      <td>Miss Jerry</td>\n      <td>Miss Jerry</td>\n      <td>1894</td>\n      <td>1894-10-09</td>\n      <td>Romance</td>\n      <td>45</td>\n      <td>USA</td>\n      <td>None</td>\n      <td>Alexander Black</td>\n      <td>Alexander Black</td>\n      <td>Alexander Black Photoplays</td>\n      <td>Blanche Bayliss, William Courtenay, Chauncey D...</td>\n      <td>The adventures of a female reporter in the 1890s.</td>\n      <td>NaN</td>\n      <td>NaN</td>\n      <td>NaN</td>\n    </tr>\n    <tr>\n      <th>1</th>\n      <td>tt0000574</td>\n      <td>The Story of the Kelly Gang</td>\n      <td>The Story of the Kelly Gang</td>\n      <td>1906</td>\n      <td>1906-12-26</td>\n      <td>Biography, Crime, Drama</td>\n      <td>70</td>\n      <td>Australia</td>\n      <td>None</td>\n      <td>Charles Tait</td>\n      <td>Charles Tait</td>\n      <td>J. and N. Tait</td>\n      <td>Elizabeth Tait, John Tait, Norman Campbell, Be...</td>\n      <td>True story of notorious Australian outlaw Ned ...</td>\n      <td>$ 2250</td>\n      <td>NaN</td>\n      <td>NaN</td>\n    </tr>\n    <tr>\n      <th>2</th>\n      <td>tt0001892</td>\n      <td>Den sorte drøm</td>\n      <td>Den sorte drøm</td>\n      <td>1911</td>\n      <td>1911-08-19</td>\n      <td>Drama</td>\n      <td>53</td>\n      <td>Germany, Denmark</td>\n      <td>NaN</td>\n      <td>Urban Gad</td>\n      <td>Urban Gad, Gebhard Schätzler-Perasini</td>\n      <td>Fotorama</td>\n      <td>Asta Nielsen, Valdemar Psilander, Gunnar Helse...</td>\n      <td>Two men of high rank are both wooing the beaut...</td>\n      <td>NaN</td>\n      <td>NaN</td>\n      <td>NaN</td>\n    </tr>\n    <tr>\n      <th>3</th>\n      <td>tt0002101</td>\n      <td>Cleopatra</td>\n      <td>Cleopatra</td>\n      <td>1912</td>\n      <td>1912-11-13</td>\n      <td>Drama, History</td>\n      <td>100</td>\n      <td>USA</td>\n      <td>English</td>\n      <td>Charles L. Gaskill</td>\n      <td>Victorien Sardou</td>\n      <td>Helen Gardner Picture Players</td>\n      <td>Helen Gardner, Pearl Sindelar, Miss Fielding, ...</td>\n      <td>The fabled queen of Egypt's affair with Roman ...</td>\n      <td>$ 45000</td>\n      <td>NaN</td>\n      <td>NaN</td>\n    </tr>\n    <tr>\n      <th>4</th>\n      <td>tt0002130</td>\n      <td>L'Inferno</td>\n      <td>L'Inferno</td>\n      <td>1911</td>\n      <td>1911-03-06</td>\n      <td>Adventure, Drama, Fantasy</td>\n      <td>68</td>\n      <td>Italy</td>\n      <td>Italian</td>\n      <td>Francesco Bertolini, Adolfo Padovan</td>\n      <td>Dante Alighieri</td>\n      <td>Milano Film</td>\n      <td>Salvatore Papa, Arturo Pirovano, Giuseppe de L...</td>\n      <td>Loosely adapted from Dante's Divine Comedy and...</td>\n      <td>NaN</td>\n      <td>NaN</td>\n      <td>NaN</td>\n    </tr>\n  </tbody>\n</table>\n</div>"
     },
     "metadata": {},
     "execution_count": 92
    }
   ],
   "source": [
    "#renaming title column to movie_title and date-published\n",
    "imdb_movies = imdb_movies.rename(columns={'title':'movie_title', 'date_published':'original_release_date'})\n",
    "imdb_movies.head()"
   ]
  },
  {
   "cell_type": "code",
   "execution_count": 94,
   "metadata": {},
   "outputs": [
    {
     "output_type": "execute_result",
     "data": {
      "text/plain": [
       "  imdb_title_id  weighted_average_vote  total_votes  mean_vote  median_vote  \\\n",
       "0     tt0000009                    5.9          154        5.9          6.0   \n",
       "1     tt0000574                    6.1          589        6.3          6.0   \n",
       "2     tt0001892                    5.8          188        6.0          6.0   \n",
       "3     tt0002101                    5.2          446        5.3          5.0   \n",
       "4     tt0002130                    7.0         2237        6.9          7.0   \n",
       "\n",
       "   votes_10  votes_9  votes_8  votes_7  votes_6  ...  females_30age_avg_vote  \\\n",
       "0        12        4       10       43       28  ...                     5.7   \n",
       "1        57       18       58      137      139  ...                     6.2   \n",
       "2         6        6       17       44       52  ...                     5.8   \n",
       "3        15        8       16       62       98  ...                     5.5   \n",
       "4       210      225      436      641      344  ...                     7.3   \n",
       "\n",
       "   females_30age_votes  females_45age_avg_vote  females_45age_votes  \\\n",
       "0                 13.0                     4.5                  4.0   \n",
       "1                 23.0                     6.6                 14.0   \n",
       "2                  4.0                     6.8                  7.0   \n",
       "3                 14.0                     6.1                 21.0   \n",
       "4                 82.0                     7.4                 77.0   \n",
       "\n",
       "   top1000_voters_rating  top1000_voters_votes  us_voters_rating  \\\n",
       "0                    5.7                  34.0               6.4   \n",
       "1                    6.4                  66.0               6.0   \n",
       "2                    5.4                  32.0               6.2   \n",
       "3                    4.9                  57.0               5.5   \n",
       "4                    6.9                 139.0               7.0   \n",
       "\n",
       "   us_voters_votes  non_us_voters_rating  non_us_voters_votes  \n",
       "0             51.0                   6.0                 70.0  \n",
       "1             96.0                   6.2                331.0  \n",
       "2             31.0                   5.9                123.0  \n",
       "3            207.0                   4.7                105.0  \n",
       "4            488.0                   7.0               1166.0  \n",
       "\n",
       "[5 rows x 49 columns]"
      ],
      "text/html": "<div>\n<style scoped>\n    .dataframe tbody tr th:only-of-type {\n        vertical-align: middle;\n    }\n\n    .dataframe tbody tr th {\n        vertical-align: top;\n    }\n\n    .dataframe thead th {\n        text-align: right;\n    }\n</style>\n<table border=\"1\" class=\"dataframe\">\n  <thead>\n    <tr style=\"text-align: right;\">\n      <th></th>\n      <th>imdb_title_id</th>\n      <th>weighted_average_vote</th>\n      <th>total_votes</th>\n      <th>mean_vote</th>\n      <th>median_vote</th>\n      <th>votes_10</th>\n      <th>votes_9</th>\n      <th>votes_8</th>\n      <th>votes_7</th>\n      <th>votes_6</th>\n      <th>...</th>\n      <th>females_30age_avg_vote</th>\n      <th>females_30age_votes</th>\n      <th>females_45age_avg_vote</th>\n      <th>females_45age_votes</th>\n      <th>top1000_voters_rating</th>\n      <th>top1000_voters_votes</th>\n      <th>us_voters_rating</th>\n      <th>us_voters_votes</th>\n      <th>non_us_voters_rating</th>\n      <th>non_us_voters_votes</th>\n    </tr>\n  </thead>\n  <tbody>\n    <tr>\n      <th>0</th>\n      <td>tt0000009</td>\n      <td>5.9</td>\n      <td>154</td>\n      <td>5.9</td>\n      <td>6.0</td>\n      <td>12</td>\n      <td>4</td>\n      <td>10</td>\n      <td>43</td>\n      <td>28</td>\n      <td>...</td>\n      <td>5.7</td>\n      <td>13.0</td>\n      <td>4.5</td>\n      <td>4.0</td>\n      <td>5.7</td>\n      <td>34.0</td>\n      <td>6.4</td>\n      <td>51.0</td>\n      <td>6.0</td>\n      <td>70.0</td>\n    </tr>\n    <tr>\n      <th>1</th>\n      <td>tt0000574</td>\n      <td>6.1</td>\n      <td>589</td>\n      <td>6.3</td>\n      <td>6.0</td>\n      <td>57</td>\n      <td>18</td>\n      <td>58</td>\n      <td>137</td>\n      <td>139</td>\n      <td>...</td>\n      <td>6.2</td>\n      <td>23.0</td>\n      <td>6.6</td>\n      <td>14.0</td>\n      <td>6.4</td>\n      <td>66.0</td>\n      <td>6.0</td>\n      <td>96.0</td>\n      <td>6.2</td>\n      <td>331.0</td>\n    </tr>\n    <tr>\n      <th>2</th>\n      <td>tt0001892</td>\n      <td>5.8</td>\n      <td>188</td>\n      <td>6.0</td>\n      <td>6.0</td>\n      <td>6</td>\n      <td>6</td>\n      <td>17</td>\n      <td>44</td>\n      <td>52</td>\n      <td>...</td>\n      <td>5.8</td>\n      <td>4.0</td>\n      <td>6.8</td>\n      <td>7.0</td>\n      <td>5.4</td>\n      <td>32.0</td>\n      <td>6.2</td>\n      <td>31.0</td>\n      <td>5.9</td>\n      <td>123.0</td>\n    </tr>\n    <tr>\n      <th>3</th>\n      <td>tt0002101</td>\n      <td>5.2</td>\n      <td>446</td>\n      <td>5.3</td>\n      <td>5.0</td>\n      <td>15</td>\n      <td>8</td>\n      <td>16</td>\n      <td>62</td>\n      <td>98</td>\n      <td>...</td>\n      <td>5.5</td>\n      <td>14.0</td>\n      <td>6.1</td>\n      <td>21.0</td>\n      <td>4.9</td>\n      <td>57.0</td>\n      <td>5.5</td>\n      <td>207.0</td>\n      <td>4.7</td>\n      <td>105.0</td>\n    </tr>\n    <tr>\n      <th>4</th>\n      <td>tt0002130</td>\n      <td>7.0</td>\n      <td>2237</td>\n      <td>6.9</td>\n      <td>7.0</td>\n      <td>210</td>\n      <td>225</td>\n      <td>436</td>\n      <td>641</td>\n      <td>344</td>\n      <td>...</td>\n      <td>7.3</td>\n      <td>82.0</td>\n      <td>7.4</td>\n      <td>77.0</td>\n      <td>6.9</td>\n      <td>139.0</td>\n      <td>7.0</td>\n      <td>488.0</td>\n      <td>7.0</td>\n      <td>1166.0</td>\n    </tr>\n  </tbody>\n</table>\n<p>5 rows × 49 columns</p>\n</div>"
     },
     "metadata": {},
     "execution_count": 94
    }
   ],
   "source": [
    "df_imbd_rating.head()"
   ]
  },
  {
   "cell_type": "code",
   "execution_count": null,
   "metadata": {},
   "outputs": [],
   "source": []
  }
 ]
}